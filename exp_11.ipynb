{
  "cells": [
    {
      "cell_type": "code",
      "execution_count": null,
      "id": "ae57bf0d",
      "metadata": {
        "id": "ae57bf0d",
        "outputId": "6187fe24-36b7-480f-f62c-095e18db1287"
      },
      "outputs": [
        {
          "name": "stdout",
          "output_type": "stream",
          "text": [
            "<class 'pandas.core.frame.DataFrame'>\n",
            "RangeIndex: 1728 entries, 0 to 1727\n",
            "Data columns (total 7 columns):\n",
            "buy_price     1728 non-null object\n",
            "maint_cost    1728 non-null object\n",
            "doors         1728 non-null object\n",
            "person        1728 non-null object\n",
            "boot_space    1728 non-null object\n",
            "safety        1728 non-null object\n",
            "class         1728 non-null object\n",
            "dtypes: object(7)\n",
            "memory usage: 94.6+ KB\n"
          ]
        }
      ],
      "source": [
        "import pandas as pd\n",
        "import matplotlib as pyplot\n",
        "import numpy as np\n",
        "import seaborn as sns\n",
        "data=pd.read_csv(\"car_evaluation.csv\")\n",
        "data.info()"
      ]
    },
    {
      "cell_type": "code",
      "execution_count": null,
      "id": "562e6962",
      "metadata": {
        "id": "562e6962",
        "outputId": "6bd46509-0fb8-4d95-9cfc-9df73e1ef258"
      },
      "outputs": [
        {
          "data": {
            "text/html": [
              "<div>\n",
              "<style scoped>\n",
              "    .dataframe tbody tr th:only-of-type {\n",
              "        vertical-align: middle;\n",
              "    }\n",
              "\n",
              "    .dataframe tbody tr th {\n",
              "        vertical-align: top;\n",
              "    }\n",
              "\n",
              "    .dataframe thead th {\n",
              "        text-align: right;\n",
              "    }\n",
              "</style>\n",
              "<table border=\"1\" class=\"dataframe\">\n",
              "  <thead>\n",
              "    <tr style=\"text-align: right;\">\n",
              "      <th></th>\n",
              "      <th>buy_price</th>\n",
              "      <th>maint_cost</th>\n",
              "      <th>doors</th>\n",
              "      <th>person</th>\n",
              "      <th>boot_space</th>\n",
              "      <th>safety</th>\n",
              "      <th>class</th>\n",
              "    </tr>\n",
              "  </thead>\n",
              "  <tbody>\n",
              "    <tr>\n",
              "      <th>0</th>\n",
              "      <td>vhigh</td>\n",
              "      <td>vhigh</td>\n",
              "      <td>2</td>\n",
              "      <td>2</td>\n",
              "      <td>small</td>\n",
              "      <td>low</td>\n",
              "      <td>unacc</td>\n",
              "    </tr>\n",
              "    <tr>\n",
              "      <th>1</th>\n",
              "      <td>vhigh</td>\n",
              "      <td>vhigh</td>\n",
              "      <td>2</td>\n",
              "      <td>2</td>\n",
              "      <td>small</td>\n",
              "      <td>med</td>\n",
              "      <td>unacc</td>\n",
              "    </tr>\n",
              "    <tr>\n",
              "      <th>2</th>\n",
              "      <td>vhigh</td>\n",
              "      <td>vhigh</td>\n",
              "      <td>2</td>\n",
              "      <td>2</td>\n",
              "      <td>small</td>\n",
              "      <td>high</td>\n",
              "      <td>unacc</td>\n",
              "    </tr>\n",
              "    <tr>\n",
              "      <th>3</th>\n",
              "      <td>vhigh</td>\n",
              "      <td>vhigh</td>\n",
              "      <td>2</td>\n",
              "      <td>2</td>\n",
              "      <td>med</td>\n",
              "      <td>low</td>\n",
              "      <td>unacc</td>\n",
              "    </tr>\n",
              "    <tr>\n",
              "      <th>4</th>\n",
              "      <td>vhigh</td>\n",
              "      <td>vhigh</td>\n",
              "      <td>2</td>\n",
              "      <td>2</td>\n",
              "      <td>med</td>\n",
              "      <td>med</td>\n",
              "      <td>unacc</td>\n",
              "    </tr>\n",
              "    <tr>\n",
              "      <th>5</th>\n",
              "      <td>vhigh</td>\n",
              "      <td>vhigh</td>\n",
              "      <td>2</td>\n",
              "      <td>2</td>\n",
              "      <td>med</td>\n",
              "      <td>high</td>\n",
              "      <td>unacc</td>\n",
              "    </tr>\n",
              "    <tr>\n",
              "      <th>6</th>\n",
              "      <td>vhigh</td>\n",
              "      <td>vhigh</td>\n",
              "      <td>2</td>\n",
              "      <td>2</td>\n",
              "      <td>big</td>\n",
              "      <td>low</td>\n",
              "      <td>unacc</td>\n",
              "    </tr>\n",
              "    <tr>\n",
              "      <th>7</th>\n",
              "      <td>vhigh</td>\n",
              "      <td>vhigh</td>\n",
              "      <td>2</td>\n",
              "      <td>2</td>\n",
              "      <td>big</td>\n",
              "      <td>med</td>\n",
              "      <td>unacc</td>\n",
              "    </tr>\n",
              "    <tr>\n",
              "      <th>8</th>\n",
              "      <td>vhigh</td>\n",
              "      <td>vhigh</td>\n",
              "      <td>2</td>\n",
              "      <td>2</td>\n",
              "      <td>big</td>\n",
              "      <td>high</td>\n",
              "      <td>unacc</td>\n",
              "    </tr>\n",
              "    <tr>\n",
              "      <th>9</th>\n",
              "      <td>vhigh</td>\n",
              "      <td>vhigh</td>\n",
              "      <td>2</td>\n",
              "      <td>4</td>\n",
              "      <td>small</td>\n",
              "      <td>low</td>\n",
              "      <td>unacc</td>\n",
              "    </tr>\n",
              "  </tbody>\n",
              "</table>\n",
              "</div>"
            ],
            "text/plain": [
              "  buy_price maint_cost doors person boot_space safety  class\n",
              "0     vhigh      vhigh     2      2      small    low  unacc\n",
              "1     vhigh      vhigh     2      2      small    med  unacc\n",
              "2     vhigh      vhigh     2      2      small   high  unacc\n",
              "3     vhigh      vhigh     2      2        med    low  unacc\n",
              "4     vhigh      vhigh     2      2        med    med  unacc\n",
              "5     vhigh      vhigh     2      2        med   high  unacc\n",
              "6     vhigh      vhigh     2      2        big    low  unacc\n",
              "7     vhigh      vhigh     2      2        big    med  unacc\n",
              "8     vhigh      vhigh     2      2        big   high  unacc\n",
              "9     vhigh      vhigh     2      4      small    low  unacc"
            ]
          },
          "execution_count": 2,
          "metadata": {},
          "output_type": "execute_result"
        }
      ],
      "source": [
        "data.head(10)"
      ]
    },
    {
      "cell_type": "code",
      "execution_count": null,
      "id": "2a998b0a",
      "metadata": {
        "id": "2a998b0a",
        "outputId": "3470a7d1-97b5-4c77-854d-fac01b648c88"
      },
      "outputs": [
        {
          "name": "stdout",
          "output_type": "stream",
          "text": [
            "rows: 1728\n",
            "columns: 7\n"
          ]
        }
      ],
      "source": [
        "rows,cols=data.shape\n",
        "print(\"rows:\",rows)\n",
        "print(\"columns:\",cols)"
      ]
    },
    {
      "cell_type": "code",
      "execution_count": null,
      "id": "5eeda98e",
      "metadata": {
        "id": "5eeda98e",
        "outputId": "a0726d7d-93ff-422d-c1b3-ac70dc4b81c6"
      },
      "outputs": [
        {
          "data": {
            "text/plain": [
              "unacc    1210\n",
              "acc       384\n",
              "good       69\n",
              "vgood      65\n",
              "Name: class, dtype: int64"
            ]
          },
          "execution_count": 4,
          "metadata": {},
          "output_type": "execute_result"
        }
      ],
      "source": [
        "data['class'].value_counts()"
      ]
    },
    {
      "cell_type": "code",
      "execution_count": null,
      "id": "e227f8e8",
      "metadata": {
        "id": "e227f8e8",
        "outputId": "51ddfb39-c736-4845-e63a-a2a80bc9092e"
      },
      "outputs": [
        {
          "data": {
            "text/plain": [
              "'5more'"
            ]
          },
          "execution_count": 7,
          "metadata": {},
          "output_type": "execute_result"
        }
      ],
      "source": [
        "data['doors'].max()\n"
      ]
    },
    {
      "cell_type": "code",
      "execution_count": null,
      "id": "f988601e",
      "metadata": {
        "id": "f988601e",
        "outputId": "38d0c8ad-d575-41cd-acb3-7b958bcd2fe4"
      },
      "outputs": [
        {
          "data": {
            "text/plain": [
              "'more'"
            ]
          },
          "execution_count": 10,
          "metadata": {},
          "output_type": "execute_result"
        }
      ],
      "source": [
        "data['person'].max()\n"
      ]
    },
    {
      "cell_type": "code",
      "execution_count": null,
      "id": "28fc1257",
      "metadata": {
        "id": "28fc1257",
        "outputId": "786a71e8-6bc4-4f3f-db9e-73f078472ddb"
      },
      "outputs": [
        {
          "data": {
            "text/plain": [
              "'2'"
            ]
          },
          "execution_count": 5,
          "metadata": {},
          "output_type": "execute_result"
        }
      ],
      "source": [
        "data['doors'].min()\n"
      ]
    },
    {
      "cell_type": "code",
      "execution_count": null,
      "id": "aee27a11",
      "metadata": {
        "id": "aee27a11",
        "outputId": "d1a87dd5-85f6-41b3-8d7c-d5ad293662b0"
      },
      "outputs": [
        {
          "data": {
            "text/plain": [
              "'2'"
            ]
          },
          "execution_count": 12,
          "metadata": {},
          "output_type": "execute_result"
        }
      ],
      "source": [
        "data['person'].min()"
      ]
    },
    {
      "cell_type": "code",
      "execution_count": null,
      "id": "5a95c83f",
      "metadata": {
        "id": "5a95c83f",
        "outputId": "e25f3198-e059-4e2b-f000-906cd5b98c68"
      },
      "outputs": [
        {
          "data": {
            "text/plain": [
              "buy_price     0\n",
              "maint_cost    0\n",
              "doors         0\n",
              "person        0\n",
              "boot_space    0\n",
              "safety        0\n",
              "class         0\n",
              "dtype: int64"
            ]
          },
          "execution_count": 6,
          "metadata": {},
          "output_type": "execute_result"
        }
      ],
      "source": [
        "data.isna().sum()"
      ]
    },
    {
      "cell_type": "code",
      "execution_count": null,
      "id": "75fd42fe",
      "metadata": {
        "id": "75fd42fe"
      },
      "outputs": [],
      "source": [
        "#except the target function to be encoded\n",
        "\n",
        "from sklearn.preprocessing import LabelEncoder,StandardScaler\n",
        "for col in data.columns[:-1]:\n",
        "    le =LabelEncoder()\n",
        "    data[col]=le.fit_transform(data[col])"
      ]
    },
    {
      "cell_type": "code",
      "execution_count": null,
      "id": "e2260ce4",
      "metadata": {
        "id": "e2260ce4",
        "outputId": "6684956e-2d8a-463e-bbdb-27cfdd974274"
      },
      "outputs": [
        {
          "name": "stdout",
          "output_type": "stream",
          "text": [
            "3\n",
            "0\n"
          ]
        }
      ],
      "source": [
        "print(data['doors'].max())\n",
        "\n",
        "print(data['doors'].min())"
      ]
    },
    {
      "cell_type": "code",
      "execution_count": null,
      "id": "04eb1031",
      "metadata": {
        "id": "04eb1031",
        "outputId": "0f842eb6-0ed6-408e-f3c5-44ac8fcd2e3b"
      },
      "outputs": [
        {
          "name": "stdout",
          "output_type": "stream",
          "text": [
            "2\n",
            "0\n"
          ]
        }
      ],
      "source": [
        "print(data['person'].max())\n",
        "\n",
        "print(data['person'].min())"
      ]
    },
    {
      "cell_type": "code",
      "execution_count": null,
      "id": "a47e1168",
      "metadata": {
        "id": "a47e1168",
        "outputId": "167a1b60-cd70-494d-a765-9cf99bfc2f02"
      },
      "outputs": [
        {
          "data": {
            "text/plain": [
              "Index(['buy_price', 'maint_cost', 'doors', 'person', 'boot_space', 'safety',\n",
              "       'class'],\n",
              "      dtype='object')"
            ]
          },
          "execution_count": 10,
          "metadata": {},
          "output_type": "execute_result"
        }
      ],
      "source": [
        "data.columns"
      ]
    },
    {
      "cell_type": "code",
      "execution_count": null,
      "id": "8c6a1473",
      "metadata": {
        "id": "8c6a1473"
      },
      "outputs": [],
      "source": [
        "X = data[['buy_price', 'maint_cost', 'doors', 'person', 'boot_space', 'safety']]\n",
        "y = data[['class']]"
      ]
    },
    {
      "cell_type": "code",
      "execution_count": null,
      "id": "a66207f0",
      "metadata": {
        "id": "a66207f0"
      },
      "outputs": [],
      "source": [
        "#spliting the dataset\n",
        "from sklearn.model_selection import train_test_split\n",
        "from sklearn.preprocessing import StandardScaler\n",
        "X_train,X_test,y_train,y_test = train_test_split(X,y,test_size = .30,random_state=42)"
      ]
    },
    {
      "cell_type": "code",
      "execution_count": null,
      "id": "56dfe069",
      "metadata": {
        "id": "56dfe069"
      },
      "outputs": [],
      "source": [
        "y sc = StandardScaler()\n",
        "X_train = sc.fit_transform(X_train) by\n",
        "X_test = sc.fit_transform(X_test)"
      ]
    },
    {
      "cell_type": "code",
      "execution_count": null,
      "id": "66c119ec",
      "metadata": {
        "id": "66c119ec",
        "outputId": "b520df8b-50e2-4c6c-e7fe-7da0eb21dcc2"
      },
      "outputs": [
        {
          "name": "stdout",
          "output_type": "stream",
          "text": [
            "      buy_price  maint_cost  doors  person  boot_space  safety\n",
            "0             3           3      0       0           2       1\n",
            "1             3           3      0       0           2       2\n",
            "2             3           3      0       0           2       0\n",
            "3             3           3      0       0           1       1\n",
            "4             3           3      0       0           1       2\n",
            "...         ...         ...    ...     ...         ...     ...\n",
            "1723          1           1      3       2           1       2\n",
            "1724          1           1      3       2           1       0\n",
            "1725          1           1      3       2           0       1\n",
            "1726          1           1      3       2           0       2\n",
            "1727          1           1      3       2           0       0\n",
            "\n",
            "[1728 rows x 6 columns]\n",
            "      buy_price  maint_cost  doors  person  boot_space  safety\n",
            "0             3           3      0       0           2       1\n",
            "1             3           3      0       0           2       2\n",
            "2             3           3      0       0           2       0\n",
            "3             3           3      0       0           1       1\n",
            "4             3           3      0       0           1       2\n",
            "...         ...         ...    ...     ...         ...     ...\n",
            "1723          1           1      3       2           1       2\n",
            "1724          1           1      3       2           1       0\n",
            "1725          1           1      3       2           0       1\n",
            "1726          1           1      3       2           0       2\n",
            "1727          1           1      3       2           0       0\n",
            "\n",
            "[1728 rows x 6 columns]\n"
          ]
        }
      ],
      "source": [
        "x_=data.iloc[:,:-1]\n",
        "y_=data.iloc[:,:-1]\n",
        "print(x_)\n",
        "print(y_)"
      ]
    },
    {
      "cell_type": "code",
      "execution_count": null,
      "id": "b33c732c",
      "metadata": {
        "id": "b33c732c",
        "outputId": "3f6a0278-aa8a-409d-98fb-7885ed1970bf"
      },
      "outputs": [
        {
          "name": "stderr",
          "output_type": "stream",
          "text": [
            "/tmp/ipykernel_3293/3719750816.py:16: DataConversionWarning: A column-vector y was passed when a 1d array was expected. Please change the shape of y to (n_samples,), for example using ravel().\n",
            "  clf.fit(X_train_pca,y_train)\n",
            "/tmp/ipykernel_3293/3719750816.py:16: DataConversionWarning: A column-vector y was passed when a 1d array was expected. Please change the shape of y to (n_samples,), for example using ravel().\n",
            "  clf.fit(X_train_pca,y_train)\n"
          ]
        },
        {
          "name": "stdout",
          "output_type": "stream",
          "text": [
            "no:of PCA component: 2,Accuracy0.6184971098265896\n",
            "no:of PCA component: 3,Accuracy0.6396917148362236\n"
          ]
        },
        {
          "name": "stderr",
          "output_type": "stream",
          "text": [
            "/tmp/ipykernel_3293/3719750816.py:16: DataConversionWarning: A column-vector y was passed when a 1d array was expected. Please change the shape of y to (n_samples,), for example using ravel().\n",
            "  clf.fit(X_train_pca,y_train)\n",
            "/tmp/ipykernel_3293/3719750816.py:16: DataConversionWarning: A column-vector y was passed when a 1d array was expected. Please change the shape of y to (n_samples,), for example using ravel().\n",
            "  clf.fit(X_train_pca,y_train)\n"
          ]
        },
        {
          "name": "stdout",
          "output_type": "stream",
          "text": [
            "no:of PCA component: 4,Accuracy0.7745664739884393\n",
            "no:of PCA component: 5,Accuracy0.7649325626204239\n",
            "best no:of PCA accuarcy:4, Accuracy0.7745664739884393\n"
          ]
        }
      ],
      "source": [
        "#perform PCA with diffrent number of component\n",
        "from sklearn.decomposition import PCA\n",
        "from sklearn.ensemble import RandomForestClassifier\n",
        "from sklearn.metrics import accuracy_score\n",
        "\n",
        "best_accuracy=0\n",
        "best_n_components=0\n",
        "\n",
        "for n_components in range(2,6):\n",
        "    pca=PCA(n_components=n_components)\n",
        "    X_train_pca=pca.fit_transform(X_train)\n",
        "    X_test_pca=pca.transform(X_test)\n",
        "\n",
        "    #train a classifier (Random Forest classifier)\n",
        "    clf=RandomForestClassifier(random_state=42)\n",
        "    clf.fit(X_train_pca,y_train)\n",
        "\n",
        "    #testing the data set\n",
        "    y_pred = clf.predict(X_test_pca)\n",
        "    accuracy=accuracy_score(y_test,y_pred)\n",
        "    print(f\"no:of PCA component: {n_components},Accuracy{accuracy}\")\n",
        "    #update the best accuracy and number of components\n",
        "    if accuracy > best_accuracy:\n",
        "        best_accuracy=accuracy\n",
        "        best_n_components=n_components\n",
        "\n",
        "print(f\"best no:of PCA accuarcy:{best_n_components}, Accuracy{best_accuracy}\")\n",
        "\n"
      ]
    },
    {
      "cell_type": "code",
      "execution_count": null,
      "id": "8bf50402",
      "metadata": {
        "id": "8bf50402",
        "outputId": "3ebd4ef2-13e6-426d-a41d-dcba36beb409"
      },
      "outputs": [
        {
          "name": "stdout",
          "output_type": "stream",
          "text": [
            "covariance  matrix\n",
            "[[ 1.00082781 -0.0018546  -0.01020328  0.01780223 -0.02847234  0.00383472]\n",
            " [-0.0018546   1.00082781 -0.02866354 -0.00412951  0.0112374   0.00732274]\n",
            " [-0.01020328 -0.02866354  1.00082781 -0.00492403 -0.0173827  -0.01289684]\n",
            " [ 0.01780223 -0.00412951 -0.00492403  1.00082781  0.01368608  0.02020217]\n",
            " [-0.02847234  0.0112374  -0.0173827   0.01368608  1.00082781 -0.00609855]\n",
            " [ 0.00383472  0.00732274 -0.01289684  0.02020217 -0.00609855  1.00082781]]\n"
          ]
        }
      ],
      "source": [
        "#calculate the covariance  matrix\n",
        "cov_mat = np.cov(X_train.T)\n",
        "print(\"covariance  matrix\")\n",
        "print(cov_mat)"
      ]
    },
    {
      "cell_type": "code",
      "execution_count": null,
      "id": "4f46447f",
      "metadata": {
        "id": "4f46447f"
      },
      "outputs": [],
      "source": []
    }
  ],
  "metadata": {
    "kernelspec": {
      "display_name": "Python 3 (ipykernel)",
      "language": "python",
      "name": "python3"
    },
    "language_info": {
      "codemirror_mode": {
        "name": "ipython",
        "version": 3
      },
      "file_extension": ".py",
      "mimetype": "text/x-python",
      "name": "python",
      "nbconvert_exporter": "python",
      "pygments_lexer": "ipython3",
      "version": "3.8.10"
    },
    "colab": {
      "provenance": []
    }
  },
  "nbformat": 4,
  "nbformat_minor": 5
}